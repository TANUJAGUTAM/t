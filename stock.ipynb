{
 "cells": [
  {
   "cell_type": "code",
   "execution_count": 1,
   "id": "270bb905",
   "metadata": {},
   "outputs": [],
   "source": [
    "#importing the required modules\n",
    "import pandas as pd\n",
    "import numpy as np\n",
    "from sklearn.preprocessing import LabelEncoder\n",
    "from sklearn.decomposition import PCA\n",
    "from sklearn.linear_model import LinearRegression\n",
    "from sklearn.tree import DecisionTreeRegressor\n",
    "from sklearn.ensemble import RandomForestRegressor\n",
    "from sklearn.linear_model import Lasso\n",
    "from sklearn.linear_model import Ridge\n",
    "from sklearn.svm import SVR\n",
    "from sklearn.neighbors import KNeighborsRegressor\n",
    "import sklearn.metrics as metrics\n",
    "from sklearn.model_selection import cross_val_score"
   ]
  },
  {
   "cell_type": "code",
   "execution_count": 38,
   "id": "5b9ee785",
   "metadata": {},
   "outputs": [],
   "source": [
    "data=pd.read_excel(r\"stock _rice_prediction_dataset.xlsx\")"
   ]
  },
  {
   "cell_type": "code",
   "execution_count": 39,
   "id": "d7171040",
   "metadata": {},
   "outputs": [
    {
     "data": {
      "text/html": [
       "<div>\n",
       "<style scoped>\n",
       "    .dataframe tbody tr th:only-of-type {\n",
       "        vertical-align: middle;\n",
       "    }\n",
       "\n",
       "    .dataframe tbody tr th {\n",
       "        vertical-align: top;\n",
       "    }\n",
       "\n",
       "    .dataframe thead th {\n",
       "        text-align: right;\n",
       "    }\n",
       "</style>\n",
       "<table border=\"1\" class=\"dataframe\">\n",
       "  <thead>\n",
       "    <tr style=\"text-align: right;\">\n",
       "      <th></th>\n",
       "      <th>Date</th>\n",
       "      <th>Open</th>\n",
       "      <th>High</th>\n",
       "      <th>Low</th>\n",
       "      <th>Close</th>\n",
       "      <th>Adj Close</th>\n",
       "      <th>Volume</th>\n",
       "    </tr>\n",
       "  </thead>\n",
       "  <tbody>\n",
       "    <tr>\n",
       "      <th>0</th>\n",
       "      <td>2018-02-05</td>\n",
       "      <td>262.000000</td>\n",
       "      <td>267.899994</td>\n",
       "      <td>250.029999</td>\n",
       "      <td>254.259995</td>\n",
       "      <td>254.259995</td>\n",
       "      <td>11896100.0</td>\n",
       "    </tr>\n",
       "    <tr>\n",
       "      <th>1</th>\n",
       "      <td>2018-02-06</td>\n",
       "      <td>247.699997</td>\n",
       "      <td>266.700012</td>\n",
       "      <td>245.000000</td>\n",
       "      <td>265.720001</td>\n",
       "      <td>265.720001</td>\n",
       "      <td>12595800.0</td>\n",
       "    </tr>\n",
       "    <tr>\n",
       "      <th>2</th>\n",
       "      <td>2018-02-07</td>\n",
       "      <td>266.579987</td>\n",
       "      <td>272.450012</td>\n",
       "      <td>264.329987</td>\n",
       "      <td>264.559998</td>\n",
       "      <td>264.559998</td>\n",
       "      <td>8981500.0</td>\n",
       "    </tr>\n",
       "    <tr>\n",
       "      <th>3</th>\n",
       "      <td>2018-02-08</td>\n",
       "      <td>267.079987</td>\n",
       "      <td>267.619995</td>\n",
       "      <td>250.000000</td>\n",
       "      <td>250.100006</td>\n",
       "      <td>250.100006</td>\n",
       "      <td>9306700.0</td>\n",
       "    </tr>\n",
       "    <tr>\n",
       "      <th>4</th>\n",
       "      <td>2018-02-09</td>\n",
       "      <td>253.850006</td>\n",
       "      <td>255.800003</td>\n",
       "      <td>236.110001</td>\n",
       "      <td>249.470001</td>\n",
       "      <td>249.470001</td>\n",
       "      <td>16906900.0</td>\n",
       "    </tr>\n",
       "  </tbody>\n",
       "</table>\n",
       "</div>"
      ],
      "text/plain": [
       "        Date        Open        High         Low       Close   Adj Close  \\\n",
       "0 2018-02-05  262.000000  267.899994  250.029999  254.259995  254.259995   \n",
       "1 2018-02-06  247.699997  266.700012  245.000000  265.720001  265.720001   \n",
       "2 2018-02-07  266.579987  272.450012  264.329987  264.559998  264.559998   \n",
       "3 2018-02-08  267.079987  267.619995  250.000000  250.100006  250.100006   \n",
       "4 2018-02-09  253.850006  255.800003  236.110001  249.470001  249.470001   \n",
       "\n",
       "       Volume  \n",
       "0  11896100.0  \n",
       "1  12595800.0  \n",
       "2   8981500.0  \n",
       "3   9306700.0  \n",
       "4  16906900.0  "
      ]
     },
     "execution_count": 39,
     "metadata": {},
     "output_type": "execute_result"
    }
   ],
   "source": [
    "data.head()"
   ]
  },
  {
   "cell_type": "code",
   "execution_count": 40,
   "id": "9219c917",
   "metadata": {},
   "outputs": [],
   "source": [
    "data_copy=data.iloc[:,1:]"
   ]
  },
  {
   "cell_type": "code",
   "execution_count": 41,
   "id": "c6b5e9e0",
   "metadata": {
    "scrolled": true
   },
   "outputs": [
    {
     "data": {
      "text/html": [
       "<div>\n",
       "<style scoped>\n",
       "    .dataframe tbody tr th:only-of-type {\n",
       "        vertical-align: middle;\n",
       "    }\n",
       "\n",
       "    .dataframe tbody tr th {\n",
       "        vertical-align: top;\n",
       "    }\n",
       "\n",
       "    .dataframe thead th {\n",
       "        text-align: right;\n",
       "    }\n",
       "</style>\n",
       "<table border=\"1\" class=\"dataframe\">\n",
       "  <thead>\n",
       "    <tr style=\"text-align: right;\">\n",
       "      <th></th>\n",
       "      <th>Open</th>\n",
       "      <th>High</th>\n",
       "      <th>Low</th>\n",
       "      <th>Close</th>\n",
       "      <th>Adj Close</th>\n",
       "      <th>Volume</th>\n",
       "    </tr>\n",
       "  </thead>\n",
       "  <tbody>\n",
       "    <tr>\n",
       "      <th>0</th>\n",
       "      <td>262.000000</td>\n",
       "      <td>267.899994</td>\n",
       "      <td>250.029999</td>\n",
       "      <td>254.259995</td>\n",
       "      <td>254.259995</td>\n",
       "      <td>11896100.0</td>\n",
       "    </tr>\n",
       "    <tr>\n",
       "      <th>1</th>\n",
       "      <td>247.699997</td>\n",
       "      <td>266.700012</td>\n",
       "      <td>245.000000</td>\n",
       "      <td>265.720001</td>\n",
       "      <td>265.720001</td>\n",
       "      <td>12595800.0</td>\n",
       "    </tr>\n",
       "    <tr>\n",
       "      <th>2</th>\n",
       "      <td>266.579987</td>\n",
       "      <td>272.450012</td>\n",
       "      <td>264.329987</td>\n",
       "      <td>264.559998</td>\n",
       "      <td>264.559998</td>\n",
       "      <td>8981500.0</td>\n",
       "    </tr>\n",
       "    <tr>\n",
       "      <th>3</th>\n",
       "      <td>267.079987</td>\n",
       "      <td>267.619995</td>\n",
       "      <td>250.000000</td>\n",
       "      <td>250.100006</td>\n",
       "      <td>250.100006</td>\n",
       "      <td>9306700.0</td>\n",
       "    </tr>\n",
       "    <tr>\n",
       "      <th>4</th>\n",
       "      <td>253.850006</td>\n",
       "      <td>255.800003</td>\n",
       "      <td>236.110001</td>\n",
       "      <td>249.470001</td>\n",
       "      <td>249.470001</td>\n",
       "      <td>16906900.0</td>\n",
       "    </tr>\n",
       "  </tbody>\n",
       "</table>\n",
       "</div>"
      ],
      "text/plain": [
       "         Open        High         Low       Close   Adj Close      Volume\n",
       "0  262.000000  267.899994  250.029999  254.259995  254.259995  11896100.0\n",
       "1  247.699997  266.700012  245.000000  265.720001  265.720001  12595800.0\n",
       "2  266.579987  272.450012  264.329987  264.559998  264.559998   8981500.0\n",
       "3  267.079987  267.619995  250.000000  250.100006  250.100006   9306700.0\n",
       "4  253.850006  255.800003  236.110001  249.470001  249.470001  16906900.0"
      ]
     },
     "execution_count": 41,
     "metadata": {},
     "output_type": "execute_result"
    }
   ],
   "source": [
    "data_copy.head()"
   ]
  },
  {
   "cell_type": "code",
   "execution_count": 42,
   "id": "bb21bf03",
   "metadata": {},
   "outputs": [
    {
     "name": "stdout",
     "output_type": "stream",
     "text": [
      "<class 'pandas.core.frame.DataFrame'>\n",
      "RangeIndex: 1009 entries, 0 to 1008\n",
      "Data columns (total 6 columns):\n",
      " #   Column     Non-Null Count  Dtype  \n",
      "---  ------     --------------  -----  \n",
      " 0   Open       1009 non-null   float64\n",
      " 1   High       1009 non-null   float64\n",
      " 2   Low        1009 non-null   float64\n",
      " 3   Close      1009 non-null   float64\n",
      " 4   Adj Close  1009 non-null   float64\n",
      " 5   Volume     1009 non-null   float64\n",
      "dtypes: float64(6)\n",
      "memory usage: 47.4 KB\n"
     ]
    }
   ],
   "source": [
    "data_copy.info()"
   ]
  },
  {
   "cell_type": "code",
   "execution_count": 43,
   "id": "bd044d79",
   "metadata": {},
   "outputs": [
    {
     "data": {
      "text/plain": [
       "Open         0\n",
       "High         0\n",
       "Low          0\n",
       "Close        0\n",
       "Adj Close    0\n",
       "Volume       0\n",
       "dtype: int64"
      ]
     },
     "execution_count": 43,
     "metadata": {},
     "output_type": "execute_result"
    }
   ],
   "source": [
    "data_copy.isnull().sum()"
   ]
  },
  {
   "cell_type": "code",
   "execution_count": 44,
   "id": "a91108c1",
   "metadata": {},
   "outputs": [
    {
     "data": {
      "text/plain": [
       "0"
      ]
     },
     "execution_count": 44,
     "metadata": {},
     "output_type": "execute_result"
    }
   ],
   "source": [
    "data_copy.duplicated().sum()"
   ]
  },
  {
   "cell_type": "code",
   "execution_count": 45,
   "id": "0bb4c7f2",
   "metadata": {},
   "outputs": [],
   "source": [
    "x=data_copy.iloc[:,:-1]\n",
    "y=data_copy.iloc[:,-1]"
   ]
  },
  {
   "cell_type": "code",
   "execution_count": 46,
   "id": "6d757d7f",
   "metadata": {},
   "outputs": [
    {
     "data": {
      "text/plain": [
       "0       11896100.0\n",
       "1       12595800.0\n",
       "2        8981500.0\n",
       "3        9306700.0\n",
       "4       16906900.0\n",
       "           ...    \n",
       "1004    20047500.0\n",
       "1005    22542300.0\n",
       "1006    14346000.0\n",
       "1007     9905200.0\n",
       "1008     7782400.0\n",
       "Name: Volume, Length: 1009, dtype: float64"
      ]
     },
     "execution_count": 46,
     "metadata": {},
     "output_type": "execute_result"
    }
   ],
   "source": [
    "y"
   ]
  },
  {
   "cell_type": "code",
   "execution_count": 32,
   "id": "fc35c5c0",
   "metadata": {},
   "outputs": [],
   "source": [
    "from sklearn.preprocessing import MinMaxScaler\n",
    "\n",
    "mmscaler = MinMaxScaler(feature_range=(0, 1))\n",
    "\n",
    "x = mmscaler.fit_transform(x)\n",
    "x = pd.DataFrame(x)"
   ]
  },
  {
   "cell_type": "code",
   "execution_count": 47,
   "id": "c4773b66",
   "metadata": {},
   "outputs": [],
   "source": [
    "from sklearn.model_selection import train_test_split \n",
    "\n",
    "x_train, x_test, y_train, y_test = train_test_split(x, y, test_size=0.3, random_state=42)\n"
   ]
  },
  {
   "cell_type": "code",
   "execution_count": 48,
   "id": "f5d6dfcc",
   "metadata": {},
   "outputs": [],
   "source": [
    "#listing the models \n",
    "linear=LinearRegression()\n",
    "decision=DecisionTreeRegressor()\n",
    "random_forest=RandomForestRegressor(criterion='absolute_error')\n",
    "lasso=Lasso()\n",
    "ridge=Ridge()\n",
    "svr=SVR()\n",
    "knn=KNeighborsRegressor(n_neighbors=9)\n",
    "list_models=[linear,decision,random_forest,lasso,ridge,svr,knn]"
   ]
  },
  {
   "cell_type": "code",
   "execution_count": 49,
   "id": "d099668a",
   "metadata": {},
   "outputs": [],
   "source": [
    "#functions for calculating the accuracy and r_suare and adujusted r _square and other required values.\n",
    "def model_accuracy(model,x_train,y_train):\n",
    "    accuracies = cross_val_score(estimator = model,  X= x_train, y = y_train, cv = 10)\n",
    "    print(\"Accuracy: {:.2f} %\".format(accuracies.mean()*100))\n",
    "    print(\"Standard Deviation: {:.2f} %\".format(accuracies.std()*100))\n",
    "def regression_results(y_true, y_pred):\n",
    "    explained_variance=metrics.explained_variance_score(y_true, y_pred)\n",
    "    mean_absolute_error=metrics.mean_absolute_error(y_true, y_pred) \n",
    "    mse=metrics.mean_squared_error(y_true, y_pred) \n",
    "    r2=metrics.r2_score(y_true, y_pred)\n",
    "    adjusted_r2 = 1 - (1-r2)*(len(y_true)-1)/(len(y_true)-x_test.shape[1]-1)\n",
    "\n",
    "    print('Explained_variance: ', round(explained_variance,4))    \n",
    "    print('R_square: ', round(r2,4))\n",
    "    print('Adjusted_r2: ', round(adjusted_r2,4))\n",
    "    print('MAE: ', round(mean_absolute_error,4))\n",
    "    print('MSE: ', round(mse,4))\n",
    "    print('Root Mean Squared Log Error (RMSLE): ', round(np.sqrt(mse),4))\n",
    "    y_test, y_pred = np.array(y_true), np.array(y_pred)\n",
    "    result=np.mean(np.abs((y_test - y_pred) / y_test)) * 100\n",
    "    print('Mean Absolute Percentage Error (MAPE):', round(result, 3), '%')"
   ]
  },
  {
   "cell_type": "code",
   "execution_count": 50,
   "id": "12e78909",
   "metadata": {},
   "outputs": [
    {
     "name": "stdout",
     "output_type": "stream",
     "text": [
      "\n",
      " LinearRegression()\n",
      "Explained_variance:  0.4035\n",
      "R_square:  0.4032\n",
      "Adjusted_r2:  0.3931\n",
      "MAE:  2557021.5791\n",
      "MSE:  14703187226690.686\n",
      "Root Mean Squared Log Error (RMSLE):  3834473.5267\n",
      "Mean Absolute Percentage Error (MAPE): 36.146 %\n",
      "Accuracy: 44.49 %\n",
      "Standard Deviation: 9.69 %\n",
      "_____________________________________\n",
      "\n",
      " DecisionTreeRegressor()\n",
      "Explained_variance:  -0.1773\n",
      "R_square:  -0.1776\n",
      "Adjusted_r2:  -0.1974\n",
      "MAE:  3329498.6799\n",
      "MSE:  29010425050858.086\n",
      "Root Mean Squared Log Error (RMSLE):  5386132.6618\n",
      "Mean Absolute Percentage Error (MAPE): 44.373 %\n",
      "Accuracy: -50.48 %\n",
      "Standard Deviation: 163.46 %\n",
      "_____________________________________\n",
      "\n",
      " RandomForestRegressor(criterion='absolute_error')\n",
      "Explained_variance:  0.3822\n",
      "R_square:  0.3822\n",
      "Adjusted_r2:  0.3718\n",
      "MAE:  2516584.9505\n",
      "MSE:  15220928369387.764\n",
      "Root Mean Squared Log Error (RMSLE):  3901400.8214\n",
      "Mean Absolute Percentage Error (MAPE): 34.615 %\n",
      "Accuracy: 30.32 %\n",
      "Standard Deviation: 17.25 %\n",
      "_____________________________________\n",
      "\n",
      " Lasso()\n",
      "Explained_variance:  0.4058\n",
      "R_square:  0.4057\n",
      "Adjusted_r2:  0.3957\n",
      "MAE:  2532799.0404\n",
      "MSE:  14640728891444.295\n",
      "Root Mean Squared Log Error (RMSLE):  3826320.5422\n",
      "Mean Absolute Percentage Error (MAPE): 36.069 %\n",
      "Accuracy: 43.96 %\n",
      "Standard Deviation: 10.06 %\n",
      "_____________________________________\n",
      "\n",
      " Ridge()\n",
      "Explained_variance:  0.4035\n",
      "R_square:  0.4032\n",
      "Adjusted_r2:  0.3931\n",
      "MAE:  2556994.4519\n",
      "MSE:  14702889331854.084\n",
      "Root Mean Squared Log Error (RMSLE):  3834434.6822\n",
      "Mean Absolute Percentage Error (MAPE): 36.146 %\n",
      "Accuracy: 44.49 %\n",
      "Standard Deviation: 9.69 %\n",
      "_____________________________________\n"
     ]
    },
    {
     "name": "stderr",
     "output_type": "stream",
     "text": [
      "C:\\Users\\HP\\anaconda3\\lib\\site-packages\\sklearn\\linear_model\\_coordinate_descent.py:648: ConvergenceWarning: Objective did not converge. You might want to increase the number of iterations, check the scale of the features or consider increasing regularisation. Duality gap: 6.131e+15, tolerance: 2.265e+12\n",
      "  model = cd_fast.enet_coordinate_descent(\n",
      "C:\\Users\\HP\\anaconda3\\lib\\site-packages\\sklearn\\linear_model\\_coordinate_descent.py:648: ConvergenceWarning: Objective did not converge. You might want to increase the number of iterations, check the scale of the features or consider increasing regularisation. Duality gap: 4.986e+15, tolerance: 1.875e+12\n",
      "  model = cd_fast.enet_coordinate_descent(\n",
      "C:\\Users\\HP\\anaconda3\\lib\\site-packages\\sklearn\\linear_model\\_coordinate_descent.py:648: ConvergenceWarning: Objective did not converge. You might want to increase the number of iterations, check the scale of the features or consider increasing regularisation. Duality gap: 5.728e+15, tolerance: 2.026e+12\n",
      "  model = cd_fast.enet_coordinate_descent(\n",
      "C:\\Users\\HP\\anaconda3\\lib\\site-packages\\sklearn\\linear_model\\_coordinate_descent.py:648: ConvergenceWarning: Objective did not converge. You might want to increase the number of iterations, check the scale of the features or consider increasing regularisation. Duality gap: 5.215e+15, tolerance: 2.008e+12\n",
      "  model = cd_fast.enet_coordinate_descent(\n",
      "C:\\Users\\HP\\anaconda3\\lib\\site-packages\\sklearn\\linear_model\\_coordinate_descent.py:648: ConvergenceWarning: Objective did not converge. You might want to increase the number of iterations, check the scale of the features or consider increasing regularisation. Duality gap: 5.707e+15, tolerance: 2.122e+12\n",
      "  model = cd_fast.enet_coordinate_descent(\n",
      "C:\\Users\\HP\\anaconda3\\lib\\site-packages\\sklearn\\linear_model\\_coordinate_descent.py:648: ConvergenceWarning: Objective did not converge. You might want to increase the number of iterations, check the scale of the features or consider increasing regularisation. Duality gap: 5.513e+15, tolerance: 2.063e+12\n",
      "  model = cd_fast.enet_coordinate_descent(\n",
      "C:\\Users\\HP\\anaconda3\\lib\\site-packages\\sklearn\\linear_model\\_coordinate_descent.py:648: ConvergenceWarning: Objective did not converge. You might want to increase the number of iterations, check the scale of the features or consider increasing regularisation. Duality gap: 5.720e+15, tolerance: 2.115e+12\n",
      "  model = cd_fast.enet_coordinate_descent(\n",
      "C:\\Users\\HP\\anaconda3\\lib\\site-packages\\sklearn\\linear_model\\_coordinate_descent.py:648: ConvergenceWarning: Objective did not converge. You might want to increase the number of iterations, check the scale of the features or consider increasing regularisation. Duality gap: 5.051e+15, tolerance: 1.851e+12\n",
      "  model = cd_fast.enet_coordinate_descent(\n",
      "C:\\Users\\HP\\anaconda3\\lib\\site-packages\\sklearn\\linear_model\\_coordinate_descent.py:648: ConvergenceWarning: Objective did not converge. You might want to increase the number of iterations, check the scale of the features or consider increasing regularisation. Duality gap: 5.634e+15, tolerance: 2.073e+12\n",
      "  model = cd_fast.enet_coordinate_descent(\n",
      "C:\\Users\\HP\\anaconda3\\lib\\site-packages\\sklearn\\linear_model\\_coordinate_descent.py:648: ConvergenceWarning: Objective did not converge. You might want to increase the number of iterations, check the scale of the features or consider increasing regularisation. Duality gap: 5.730e+15, tolerance: 2.100e+12\n",
      "  model = cd_fast.enet_coordinate_descent(\n",
      "C:\\Users\\HP\\anaconda3\\lib\\site-packages\\sklearn\\linear_model\\_coordinate_descent.py:648: ConvergenceWarning: Objective did not converge. You might want to increase the number of iterations, check the scale of the features or consider increasing regularisation. Duality gap: 5.803e+15, tolerance: 2.148e+12\n",
      "  model = cd_fast.enet_coordinate_descent(\n"
     ]
    },
    {
     "name": "stdout",
     "output_type": "stream",
     "text": [
      "\n",
      " SVR()\n",
      "Explained_variance:  0.0\n",
      "R_square:  -0.1075\n",
      "Adjusted_r2:  -0.1261\n",
      "MAE:  3381845.7499\n",
      "MSE:  27283331471219.586\n",
      "Root Mean Squared Log Error (RMSLE):  5223344.8547\n",
      "Mean Absolute Percentage Error (MAPE): 48.817 %\n",
      "Accuracy: -9.95 %\n",
      "Standard Deviation: 6.12 %\n",
      "_____________________________________\n",
      "\n",
      " KNeighborsRegressor(n_neighbors=9)\n",
      "Explained_variance:  0.3151\n",
      "R_square:  0.3019\n",
      "Adjusted_r2:  0.2902\n",
      "MAE:  2560751.1551\n",
      "MSE:  17197409031991.2\n",
      "Root Mean Squared Log Error (RMSLE):  4146975.89\n",
      "Mean Absolute Percentage Error (MAPE): 35.036 %\n",
      "Accuracy: 24.52 %\n",
      "Standard Deviation: 13.41 %\n",
      "_____________________________________\n"
     ]
    }
   ],
   "source": [
    "#implementing the models \n",
    "def MAPE (y_test, y_pred): \n",
    "    y_test, y_pred = np.array(y_test), np.array(y_pred)\n",
    "    return np.mean(np.abs((y_test - y_pred) / y_test)) * 100\n",
    "for i in list_models:\n",
    "    i.fit(x_train,y_train)\n",
    "    y_pred=i.predict(x_test)\n",
    "    print(\"\\n\",i)\n",
    "    regression_results(y_test,y_pred)\n",
    "    model_accuracy(i,x_train,y_train)\n",
    "    print(\"_____________________________________\")"
   ]
  },
  {
   "cell_type": "code",
   "execution_count": null,
   "id": "034adbd7",
   "metadata": {},
   "outputs": [],
   "source": []
  }
 ],
 "metadata": {
  "kernelspec": {
   "display_name": "Python 3 (ipykernel)",
   "language": "python",
   "name": "python3"
  },
  "language_info": {
   "codemirror_mode": {
    "name": "ipython",
    "version": 3
   },
   "file_extension": ".py",
   "mimetype": "text/x-python",
   "name": "python",
   "nbconvert_exporter": "python",
   "pygments_lexer": "ipython3",
   "version": "3.9.7"
  }
 },
 "nbformat": 4,
 "nbformat_minor": 5
}
